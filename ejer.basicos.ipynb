{
  "nbformat": 4,
  "nbformat_minor": 0,
  "metadata": {
    "colab": {
      "name": "Untitled1.ipynb",
      "provenance": [],
      "authorship_tag": "ABX9TyMD24l8hiWkubmiP96Ody3B",
      "include_colab_link": true
    },
    "kernelspec": {
      "name": "python3",
      "display_name": "Python 3"
    },
    "language_info": {
      "name": "python"
    }
  },
  "cells": [
    {
      "cell_type": "markdown",
      "metadata": {
        "id": "view-in-github",
        "colab_type": "text"
      },
      "source": [
        "<a href=\"https://colab.research.google.com/github/Alecluna20/alec-jurado/blob/main/ejer.basicos.ipynb\" target=\"_parent\"><img src=\"https://colab.research.google.com/assets/colab-badge.svg\" alt=\"Open In Colab\"/></a>"
      ]
    },
    {
      "cell_type": "code",
      "execution_count": 1,
      "metadata": {
        "colab": {
          "base_uri": "https://localhost:8080/"
        },
        "id": "n4p-MZkQWkT6",
        "outputId": "ef3fdb13-35fd-4dc0-9d1e-4c0f497b6d22"
      },
      "outputs": [
        {
          "output_type": "stream",
          "name": "stdout",
          "text": [
            "Ingrese su nombre: alec\n",
            "Hola alec\n"
          ]
        }
      ],
      "source": [
        "nombre=str(input(\"Ingrese su nombre: \"))\n",
        "if nombre!=\"Ana\" and nombre!=\"Juan\" and nombre!=\"Pedro\":\n",
        "  print(\"Hola\",nombre)\n",
        "  "
      ]
    },
    {
      "cell_type": "code",
      "source": [
        "lista=[2,4,5,7,4,7,8]\n",
        "print(\"El último elemento es: \",lista[-1])\n",
        "print(\"Lista original: \")\n",
        "print(lista)\n",
        "print(\"Lista revertida: \")\n",
        "contador = len(lista) - 1\n",
        "nuevaLista = []\n",
        "while (contador >= 0):\n",
        "  nuevaLista.append(lista[contador])\n",
        "  contador = contador - 1\n",
        "print(nuevaLista)\n"
      ],
      "metadata": {
        "colab": {
          "base_uri": "https://localhost:8080/"
        },
        "id": "JfVAvWSUXLYr",
        "outputId": "6473d608-8a1b-4849-9a18-eb1521554298"
      },
      "execution_count": 2,
      "outputs": [
        {
          "output_type": "stream",
          "name": "stdout",
          "text": [
            "El último elemento es:  8\n",
            "Lista original: \n",
            "[2, 4, 5, 7, 4, 7, 8]\n",
            "Lista revertida: \n",
            "[8, 7, 4, 7, 5, 4, 2]\n"
          ]
        }
      ]
    },
    {
      "cell_type": "code",
      "source": [
        "lista=[\"Hola\",\"a\",\"todos\",\"esto\",\"es\",\"un\",\"marco\"]\n",
        "print(\"***\\n* \",lista[0],\" * \\n* \",lista[1],\"    \\n \",lista[2],\"\\n \",lista[3],\" \\n \",lista[4], \"   \\n \",lista[5],\"   \\n \",lista[6],\"\\n****\"   )"
      ],
      "metadata": {
        "colab": {
          "base_uri": "https://localhost:8080/"
        },
        "id": "QIsUZTitXU0f",
        "outputId": "389d9c41-9934-4c74-fb59-fe355a2683bd"
      },
      "execution_count": 3,
      "outputs": [
        {
          "output_type": "stream",
          "name": "stdout",
          "text": [
            "***\n",
            "*  Hola  * \n",
            "*  a     \n",
            "  todos \n",
            "  esto  \n",
            "  es    \n",
            "  un    \n",
            "  marco \n",
            "****\n"
          ]
        }
      ]
    }
  ]
}